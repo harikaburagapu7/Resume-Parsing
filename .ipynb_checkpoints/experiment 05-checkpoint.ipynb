{
 "cells": [
  {
   "cell_type": "code",
   "execution_count": null,
   "id": "77bfbc7a-e638-41e0-a787-3e0525d32a4d",
   "metadata": {},
   "outputs": [],
   "source": [
    "import nltk\n",
    "from nltk import CFG\n",
    "from nltk.parse import RecursiveDescentParser\n",
    "\n",
    "sentence = \"the boy saw the girl with the telescope\".split()\n",
    "\n",
    "grammar = CFG.fromstring('''\n",
    "    S -> NP VP\n",
    "    NP -> Det N | NP PP\n",
    "    VP -> V NP\n",
    "    PP -> P NP\n",
    "    Det -> \"the\"\n",
    "    N -> \"boy\" | \"girl\" | \"telescope\"\n",
    "    V -> \"saw\"\n",
    "    P -> \"with\"\n",
    "''')\n",
    "\n",
    "parser = RecursiveDescentParser(grammar)\n",
    "for tree in parser.parse(sentence):\n",
    "    tree.draw()"
   ]
  },
  {
   "cell_type": "code",
   "execution_count": null,
   "id": "b2efe863-932d-49a5-96b9-e0d84747364e",
   "metadata": {},
   "outputs": [],
   "source": [
    "#PRACTICAL 5: CFG\n",
    "\n",
    "#CONTEXT FREE GRAMMAR (CFG)\n",
    "import nltk\n",
    "from nltk import CFG\n",
    "from nltk.parse import RecursiveDescentParser\n",
    "\n",
    "sentence = \"the boy saw the girl with the telescope\".split()\n",
    "grammar = CFG.fromstring('''\n",
    "S -> NP VP\n",
    "NP -> Det N | NP PP\n",
    "VP -> V NP\n",
    "PP -> P NP \n",
    "Det -> 'the'\n",
    "N -> 'boy'|'girl'|'telescope'\n",
    "V -> 'saw'\n",
    "P -> 'with'\n",
    "''')\n",
    "\n",
    "parser = RecursiveDescentParser(grammar)\n",
    "for tree in parser.parse(sentence):\n",
    "    print(tree)\n",
    "    tree.draw()"
   ]
  },
  {
   "cell_type": "code",
   "execution_count": null,
   "id": "ea573685-77f1-4a14-91fa-ac875c1dc267",
   "metadata": {},
   "outputs": [],
   "source": [
    "pip install nltk\n",
    "pip install stanza \n",
    "pip install ngram \n"
   ]
  }
 ],
 "metadata": {
  "kernelspec": {
   "display_name": "Python 3 (ipykernel)",
   "language": "python",
   "name": "python3"
  },
  "language_info": {
   "codemirror_mode": {
    "name": "ipython",
    "version": 3
   },
   "file_extension": ".py",
   "mimetype": "text/x-python",
   "name": "python",
   "nbconvert_exporter": "python",
   "pygments_lexer": "ipython3",
   "version": "3.8.0"
  }
 },
 "nbformat": 4,
 "nbformat_minor": 5
}
