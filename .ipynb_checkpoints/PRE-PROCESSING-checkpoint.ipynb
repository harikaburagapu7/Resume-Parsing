{
 "cells": [
  {
   "cell_type": "code",
   "execution_count": 1,
   "id": "1a09124b-86fe-4b0a-9217-2e53f87adf19",
   "metadata": {},
   "outputs": [],
   "source": [
    "import nltk"
   ]
  },
  {
   "cell_type": "code",
   "execution_count": 2,
   "id": "af2c5e3b-03fa-4d05-93fb-d0beeade6509",
   "metadata": {},
   "outputs": [
    {
     "name": "stdout",
     "output_type": "stream",
     "text": [
      "['Tokenization', 'is', 'the', 'process', 'of', 'dividing', 'a', 'text', 'into', 'smaller', 'units', 'known', 'as', 'tokens', '.']\n",
      "15 \n",
      "\n",
      "['Tokenization is the process of dividing a text into smaller units known as tokens.']\n",
      "1\n"
     ]
    }
   ],
   "source": [
    "from nltk import word_tokenize\n",
    "\n",
    "text = \"Tokenization is the process of dividing a text into smaller units known as tokens.\"\n",
    "word_tokens = word_tokenize(text)\n",
    "print(word_tokens)\n",
    "print(len(word_tokens), \"\\n\")\n",
    "\n",
    "from nltk import sent_tokenize\n",
    "sent_tokens = sent_tokenize(text)\n",
    "print(sent_tokens)\n",
    "print(len(sent_tokens))"
   ]
  },
  {
   "cell_type": "code",
   "execution_count": 3,
   "id": "59df2f32-0280-4b12-aff1-261520076a41",
   "metadata": {},
   "outputs": [
    {
     "name": "stdout",
     "output_type": "stream",
     "text": [
      "['arabic', 'azerbaijani', 'basque', 'bengali', 'catalan', 'chinese', 'danish', 'dutch', 'english', 'finnish', 'french', 'german', 'greek', 'hebrew', 'hinglish', 'hungarian', 'indonesian', 'italian', 'kazakh', 'nepali', 'norwegian', 'portuguese', 'romanian', 'russian', 'slovene', 'spanish', 'swedish', 'tajik', 'turkish']\n"
     ]
    }
   ],
   "source": [
    "from nltk.corpus import stopwords\n",
    "print(stopwords.fileids())"
   ]
  },
  {
   "cell_type": "code",
   "execution_count": 4,
   "id": "234eb401-788e-44ca-8358-4e9fcab02143",
   "metadata": {},
   "outputs": [
    {
     "name": "stdout",
     "output_type": "stream",
     "text": [
      "\n",
      " {'here', 'some', 'theirs', 'a', 'an', 'they', 'but', 'there', 'doing', 'so', 'll', 'not', 'into', 'in', 'do', 'just', 'than', \"mightn't\", 'your', \"that'll\", 'it', 'off', 're', 'wouldn', 'o', 'shan', 'her', 'our', \"hasn't\", 't', 'weren', \"doesn't\", 'out', 'hadn', 'at', 'down', 'themselves', 'why', 'ourselves', 'no', 'yourselves', \"isn't\", 'very', 'y', 'further', 'on', 'more', 'once', 'own', \"won't\", 'over', 'we', 'aren', 'does', 'she', 'between', 'any', 'his', 'doesn', 'the', 'couldn', 'against', 'am', 'few', 'where', 'isn', 'them', 'all', 'myself', \"you'll\", 'be', 'other', 'did', 'didn', 'before', 'ours', 'hasn', \"needn't\", 'ma', 'hers', 'mustn', 'for', 'were', \"it's\", 'its', 'nor', 'will', \"shouldn't\", \"weren't\", 'needn', \"you've\", 'about', 's', 'haven', 'as', 'should', \"she's\", 'up', \"should've\", 'and', 'can', 'until', 'having', 'd', 'yourself', 'has', 'then', 'each', 'if', \"hadn't\", 'which', 'yours', 'wasn', 'm', 'what', 'is', 'was', \"shan't\", 'most', 've', \"haven't\", 'won', 'same', 'he', 'ain', 'i', \"wasn't\", 'when', 'after', \"wouldn't\", \"you'd\", 'under', 'who', \"aren't\", 'himself', 'itself', 'both', 'being', 'how', 'mightn', 'through', 'these', 'those', 'while', \"you're\", 'to', 'such', 'been', 'with', 'you', 'had', 'from', 'above', 'this', 'my', 'their', 'whom', \"couldn't\", 'have', 'now', 'herself', 'are', 'during', 'too', \"didn't\", 'shouldn', 'me', \"don't\", 'him', 'below', 'don', 'again', 'or', 'by', 'of', \"mustn't\", 'only', 'because', 'that'}\n"
     ]
    }
   ],
   "source": [
    "stopword = set(stopwords.words('english'))\n",
    "print('\\n',stopword)"
   ]
  },
  {
   "cell_type": "code",
   "execution_count": 5,
   "id": "c033f2a3-ae65-4c93-8d70-da644da58663",
   "metadata": {},
   "outputs": [
    {
     "name": "stdout",
     "output_type": "stream",
     "text": [
      "\n",
      " ['Tokenization', 'process', 'dividing', 'text', 'smaller', 'units', 'known', 'tokens', '.']\n"
     ]
    }
   ],
   "source": [
    "stopwords_list = []\n",
    "for word in word_tokens:\n",
    "    if word not in  stopword:\n",
    "        stopwords_list.append(word)\n",
    "print('\\n',stopwords_list)"
   ]
  },
  {
   "cell_type": "code",
   "execution_count": 6,
   "id": "3d91a772-ed9b-4cfe-899d-ea75b5d0f7d0",
   "metadata": {},
   "outputs": [
    {
     "name": "stdout",
     "output_type": "stream",
     "text": [
      "['token', 'process', 'divid', 'text', 'smaller', 'unit', 'known', 'token', '.']\n"
     ]
    }
   ],
   "source": [
    "from nltk import PorterStemmer\n",
    "ps = PorterStemmer()\n",
    "stems = []\n",
    "for word in stopwords_list :\n",
    "   stems.append(ps.stem(word))\n",
    "print(stems)"
   ]
  },
  {
   "cell_type": "code",
   "execution_count": 7,
   "id": "af930f91-2a0f-4eb1-8104-6ac424ee76da",
   "metadata": {},
   "outputs": [
    {
     "name": "stdout",
     "output_type": "stream",
     "text": [
      "\n",
      " ['Tokenization']\n",
      "\n",
      " ['Tokenization', 'process']\n",
      "\n",
      " ['Tokenization', 'process', 'dividing']\n",
      "\n",
      " ['Tokenization', 'process', 'dividing', 'text']\n",
      "\n",
      " ['Tokenization', 'process', 'dividing', 'text', 'smaller']\n",
      "\n",
      " ['Tokenization', 'process', 'dividing', 'text', 'smaller', 'unit']\n",
      "\n",
      " ['Tokenization', 'process', 'dividing', 'text', 'smaller', 'unit', 'known']\n",
      "\n",
      " ['Tokenization', 'process', 'dividing', 'text', 'smaller', 'unit', 'known', 'token']\n",
      "\n",
      " ['Tokenization', 'process', 'dividing', 'text', 'smaller', 'unit', 'known', 'token', '.']\n"
     ]
    }
   ],
   "source": [
    "from nltk import WordNetLemmatizer\n",
    "lemma = WordNetLemmatizer()\n",
    "lma = []\n",
    "for word in stopwords_list:\n",
    "    lma.append(lemma.lemmatize(word))\n",
    "    print('\\n',lma)"
   ]
  },
  {
   "cell_type": "code",
   "execution_count": 8,
   "id": "75aee44b-a5da-4c19-ad08-153aa39f5878",
   "metadata": {},
   "outputs": [
    {
     "name": "stdout",
     "output_type": "stream",
     "text": [
      "[('Tokenization', 'NN'), ('is', 'VBZ'), ('the', 'DT'), ('process', 'NN'), ('of', 'IN'), ('dividing', 'VBG'), ('a', 'DT'), ('text', 'NN'), ('into', 'IN'), ('smaller', 'JJR'), ('units', 'NNS'), ('known', 'VBN'), ('as', 'IN'), ('tokens', 'NNS'), ('.', '.')]\n"
     ]
    }
   ],
   "source": [
    "text = \"Tokenization is the process of dividing a text into smaller units known as tokens.\"\n",
    "from nltk import pos_tag\n",
    "word_tokens = word_tokenize(text)\n",
    "print(pos_tag(word_tokens))"
   ]
  },
  {
   "cell_type": "code",
   "execution_count": 11,
   "id": "96391148-dee1-4e9f-b0db-67e55cf81fcc",
   "metadata": {},
   "outputs": [
    {
     "name": "stdout",
     "output_type": "stream",
     "text": [
      "Tokenization is the process of dividing a text into smaller units called as tokens.\n"
     ]
    }
   ],
   "source": [
    "import re\n",
    "print(re.sub(\"known\",\"called\",text))"
   ]
  },
  {
   "cell_type": "code",
   "execution_count": null,
   "id": "42de2c0b-8634-4ba1-a6bd-ea3bff3641e9",
   "metadata": {},
   "outputs": [],
   "source": []
  }
 ],
 "metadata": {
  "kernelspec": {
   "display_name": "Python 3 (ipykernel)",
   "language": "python",
   "name": "python3"
  },
  "language_info": {
   "codemirror_mode": {
    "name": "ipython",
    "version": 3
   },
   "file_extension": ".py",
   "mimetype": "text/x-python",
   "name": "python",
   "nbconvert_exporter": "python",
   "pygments_lexer": "ipython3",
   "version": "3.12.4"
  }
 },
 "nbformat": 4,
 "nbformat_minor": 5
}
